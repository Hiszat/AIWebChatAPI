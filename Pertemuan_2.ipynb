{
  "cells": [
    {
      "cell_type": "markdown",
      "metadata": {
        "id": "view-in-github",
        "colab_type": "text"
      },
      "source": [
        "<a href=\"https://colab.research.google.com/github/Hiszat/AIWebChatAPI/blob/main/Pertemuan_2.ipynb\" target=\"_parent\"><img src=\"https://colab.research.google.com/assets/colab-badge.svg\" alt=\"Open In Colab\"/></a>"
      ]
    },
    {
      "cell_type": "code",
      "execution_count": null,
      "metadata": {
        "id": "tUs1J_bQrrwO"
      },
      "outputs": [],
      "source": [
        "twitter_auth_code = ''"
      ]
    },
    {
      "cell_type": "markdown",
      "metadata": {
        "id": "DTKzapCoYGy7"
      },
      "source": []
    },
    {
      "cell_type": "code",
      "execution_count": null,
      "metadata": {
        "id": "GcIOQyBLryEN"
      },
      "outputs": [],
      "source": [
        "!pip install pandas\n",
        "\n",
        "!sudo apt-get update\n",
        "!sudo apt-get install -y ca-certificates curl gnupg\n",
        "!sudo mkdir -p /etc/apt/keyrings\n",
        "!curl -fsSL https://deb.nodesource.com/gpgkey/nodesource-repo.gpg.key | sudo gpg --dearmor -o /etc/apt/keyrings/nodesource.gpg\n",
        "\n",
        "!NODE_MAJOR=20 && echo \"deb [signed-by=/etc/apt/keyrings/nodesource.gpg] https://deb.nodesource.com/node_$NODE_MAJOR.x nodistro main\" | sudo tee /etc/apt/sources.list.d/nodesource.list\n",
        "\n",
        "!sudo apt-get update\n",
        "!sudo apt-get install nodejs -y\n",
        "\n",
        "!node -v"
      ]
    },
    {
      "cell_type": "code",
      "execution_count": null,
      "metadata": {
        "id": "l_LlegFYY8rJ"
      },
      "outputs": [],
      "source": [
        "!npx playwright install"
      ]
    },
    {
      "cell_type": "code",
      "execution_count": null,
      "metadata": {
        "colab": {
          "background_save": true
        },
        "id": "A9smYxmXtjBc"
      },
      "outputs": [],
      "source": [
        "filename = 'bakso.csv'\n",
        "search_keyword = 'bakso'\n",
        "limit = 200\n",
        "\n",
        "\n",
        "!npx --yes tweet-harvest@latest -o \"{filename}\" -s \"{search_keyword}\" -l {limit} --token {twitter_auth_code}"
      ]
    },
    {
      "cell_type": "code",
      "execution_count": null,
      "metadata": {
        "id": "nIWA7lF2uk9E"
      },
      "outputs": [],
      "source": [
        "from google.colab import drive\n",
        "drive.mount('/content/drive')"
      ]
    },
    {
      "cell_type": "code",
      "execution_count": null,
      "metadata": {
        "id": "yyLgl1To4YBm"
      },
      "outputs": [],
      "source": [
        "import pandas as pd\n",
        "file_path = f\"tweets-data/{filename}\"\n",
        "\n",
        "df = pd.read_csv(file_path, delimiter=\";\")\n",
        "\n",
        "display(df)"
      ]
    }
  ],
  "metadata": {
    "colab": {
      "provenance": [],
      "mount_file_id": "1-YaG3ioN5GcXk5ahFy1K5qhJ22EXzK58",
      "authorship_tag": "ABX9TyPxvuX8XtaAtKFG8uYeMJQt",
      "include_colab_link": true
    },
    "kernelspec": {
      "display_name": "Python 3",
      "name": "python3"
    },
    "language_info": {
      "name": "python"
    }
  },
  "nbformat": 4,
  "nbformat_minor": 0
}